{
 "cells": [
  {
   "cell_type": "code",
   "execution_count": 1,
   "metadata": {
    "ExecuteTime": {
     "end_time": "2021-03-11T01:16:48.991781Z",
     "start_time": "2021-03-11T01:16:37.315310Z"
    }
   },
   "outputs": [],
   "source": [
    "import emll"
   ]
  },
  {
   "cell_type": "code",
   "execution_count": 2,
   "metadata": {
    "ExecuteTime": {
     "end_time": "2021-03-11T01:16:49.000847Z",
     "start_time": "2021-03-11T01:16:48.994562Z"
    }
   },
   "outputs": [],
   "source": [
    "%matplotlib inline\n",
    "import matplotlib.pyplot as plt\n",
    "import numpy as np\n",
    "import pymc3 as pm\n",
    "import pandas as pd\n",
    "import theano\n",
    "\n",
    "np.random.seed(123)\n",
    "pm.set_tt_rng(42)"
   ]
  },
  {
   "cell_type": "markdown",
   "metadata": {},
   "source": [
    "Import the cobra model in order to obtain the reactions, internal/external metabolites for stoichiometric matrix"
   ]
  },
  {
   "cell_type": "code",
   "execution_count": 3,
   "metadata": {
    "ExecuteTime": {
     "end_time": "2021-03-11T01:16:49.190367Z",
     "start_time": "2021-03-11T01:16:49.003537Z"
    }
   },
   "outputs": [
    {
     "name": "stdout",
     "output_type": "stream",
     "text": [
      "Using license file /Library/gurobi910/gurobi.lic\n",
      "Set parameter TokenServer to value leghorn.emsl.pnl.gov\n"
     ]
    }
   ],
   "source": [
    "import cobra\n",
    "\n",
    "model = cobra.io.load_json_model('glycolysis_to_itaconate_reduced.json')\n",
    "\n",
    "r_compartments = [\n",
    "    r.compartments if 'e' not in r.compartments else 't'\n",
    "    for r in model.reactions\n",
    "]\n",
    "\n",
    "for rxn in model.exchanges:\n",
    "    r_compartments[model.reactions.index(rxn)] = 't'\n",
    "\n",
    "m_compartments = [\n",
    "    m.compartment for m in model.metabolites\n",
    "]"
   ]
  },
  {
   "cell_type": "code",
   "execution_count": 4,
   "metadata": {
    "ExecuteTime": {
     "end_time": "2021-03-11T01:16:49.199346Z",
     "start_time": "2021-03-11T01:16:49.193084Z"
    }
   },
   "outputs": [],
   "source": [
    "v_star = pd.read_csv('v_star.csv',header=None,index_col=0)[1]"
   ]
  },
  {
   "cell_type": "code",
   "execution_count": 5,
   "metadata": {
    "ExecuteTime": {
     "end_time": "2021-03-11T01:16:49.207863Z",
     "start_time": "2021-03-11T01:16:49.201076Z"
    }
   },
   "outputs": [],
   "source": [
    "x = pd.read_csv('Metab.csv',index_col=0).fillna(0.001)"
   ]
  },
  {
   "cell_type": "code",
   "execution_count": 6,
   "metadata": {
    "ExecuteTime": {
     "end_time": "2021-03-11T01:16:49.215229Z",
     "start_time": "2021-03-11T01:16:49.209474Z"
    }
   },
   "outputs": [],
   "source": [
    "v = pd.read_csv('Boundary_Flux.csv',index_col=0)"
   ]
  },
  {
   "cell_type": "code",
   "execution_count": 7,
   "metadata": {
    "ExecuteTime": {
     "end_time": "2021-03-11T01:16:49.222380Z",
     "start_time": "2021-03-11T01:16:49.216626Z"
    }
   },
   "outputs": [],
   "source": [
    "e = pd.read_csv('Prot.csv',index_col=0)"
   ]
  },
  {
   "cell_type": "code",
   "execution_count": 8,
   "metadata": {
    "ExecuteTime": {
     "end_time": "2021-03-11T01:16:49.228078Z",
     "start_time": "2021-03-11T01:16:49.225624Z"
    }
   },
   "outputs": [],
   "source": [
    "to_consider = v.columns\n",
    "n_exp = len(to_consider) - 1\n",
    "ref_state = 'Ylypol_F584_R2_mal_11'"
   ]
  },
  {
   "cell_type": "code",
   "execution_count": 9,
   "metadata": {
    "ExecuteTime": {
     "end_time": "2021-03-11T01:16:49.316788Z",
     "start_time": "2021-03-11T01:16:49.230366Z"
    }
   },
   "outputs": [],
   "source": [
    "xn = (x.T.divide(x[ref_state]) * np.log(2))\n",
    "#en = (2 ** e).subtract(e[ref_state],0).T.fillna(0.1)\n",
    "en = e.T.divide(e[ref_state]).fillna(0.1)\n"
   ]
  },
  {
   "cell_type": "code",
   "execution_count": 10,
   "metadata": {
    "ExecuteTime": {
     "end_time": "2021-03-11T01:16:49.331523Z",
     "start_time": "2021-03-11T01:16:49.319092Z"
    }
   },
   "outputs": [],
   "source": [
    "v_star_df = pd.DataFrame(v_star).reset_index().rename(columns = {0: 'id', 1:'flux'})\n",
    "v_merge = v.merge(v_star_df, left_index=True, right_on='id').set_index('id')\n",
    "vn = v_merge.divide(v_merge.flux, 0).drop('flux',1).T"
   ]
  },
  {
   "cell_type": "code",
   "execution_count": 11,
   "metadata": {
    "ExecuteTime": {
     "end_time": "2021-03-11T01:16:49.338541Z",
     "start_time": "2021-03-11T01:16:49.333648Z"
    }
   },
   "outputs": [],
   "source": [
    "vn = vn.drop(ref_state)\n",
    "xn = xn.drop(ref_state)\n",
    "en = en.drop(ref_state)"
   ]
  },
  {
   "cell_type": "code",
   "execution_count": 12,
   "metadata": {
    "ExecuteTime": {
     "end_time": "2021-03-11T01:16:49.343709Z",
     "start_time": "2021-03-11T01:16:49.340424Z"
    }
   },
   "outputs": [],
   "source": [
    "x_inds = np.array([model.metabolites.index(met) for met in xn.columns])"
   ]
  },
  {
   "cell_type": "code",
   "execution_count": 13,
   "metadata": {
    "ExecuteTime": {
     "end_time": "2021-03-11T01:16:49.348698Z",
     "start_time": "2021-03-11T01:16:49.345859Z"
    }
   },
   "outputs": [],
   "source": [
    "e_inds = np.array([model.reactions.index(rxn) for rxn in en.columns])"
   ]
  },
  {
   "cell_type": "code",
   "execution_count": 14,
   "metadata": {
    "ExecuteTime": {
     "end_time": "2021-03-11T01:16:49.353477Z",
     "start_time": "2021-03-11T01:16:49.350631Z"
    }
   },
   "outputs": [],
   "source": [
    "v_inds = np.array([model.reactions.index(rxn) for rxn in vn.columns])"
   ]
  },
  {
   "cell_type": "code",
   "execution_count": 15,
   "metadata": {
    "ExecuteTime": {
     "end_time": "2021-03-11T01:16:49.360163Z",
     "start_time": "2021-03-11T01:16:49.355721Z"
    }
   },
   "outputs": [],
   "source": [
    "e_laplace_inds = []\n",
    "e_zero_inds = []\n",
    "for i,rxn in enumerate(model.reactions):\n",
    "    if rxn.id not in en.columns:\n",
    "        if ('e' not in rxn.compartments) and (len(rxn.compartments) == 1):\n",
    "            e_laplace_inds += [i]\n",
    "        else:\n",
    "            e_zero_inds += [i]"
   ]
  },
  {
   "cell_type": "code",
   "execution_count": 16,
   "metadata": {
    "ExecuteTime": {
     "end_time": "2021-03-11T01:16:49.365090Z",
     "start_time": "2021-03-11T01:16:49.361935Z"
    }
   },
   "outputs": [],
   "source": [
    "e_laplace_inds = np.array(e_laplace_inds)\n",
    "e_zero_inds = np.array(e_zero_inds)\n",
    "e_indexer = np.hstack([e_inds, e_laplace_inds, e_zero_inds]).argsort()"
   ]
  },
  {
   "cell_type": "code",
   "execution_count": 17,
   "metadata": {
    "ExecuteTime": {
     "end_time": "2021-03-11T01:16:49.369818Z",
     "start_time": "2021-03-11T01:16:49.366766Z"
    }
   },
   "outputs": [],
   "source": [
    "N = cobra.util.create_stoichiometric_matrix(model)"
   ]
  },
  {
   "cell_type": "code",
   "execution_count": 18,
   "metadata": {
    "ExecuteTime": {
     "end_time": "2021-03-11T01:16:49.375574Z",
     "start_time": "2021-03-11T01:16:49.371664Z"
    }
   },
   "outputs": [],
   "source": [
    "Ex = emll.create_elasticity_matrix(model)\n",
    "Ex = 0.1 + 0.8 * np.random.rand(*Ex.shape)"
   ]
  },
  {
   "cell_type": "code",
   "execution_count": 19,
   "metadata": {
    "ExecuteTime": {
     "end_time": "2021-03-11T01:16:49.382753Z",
     "start_time": "2021-03-11T01:16:49.377351Z"
    }
   },
   "outputs": [],
   "source": [
    "Ey = emll.create_Ey_matrix(model)"
   ]
  },
  {
   "cell_type": "code",
   "execution_count": 20,
   "metadata": {
    "ExecuteTime": {
     "end_time": "2021-03-11T01:16:49.414037Z",
     "start_time": "2021-03-11T01:16:49.384589Z"
    }
   },
   "outputs": [],
   "source": [
    "ll = emll.LinLogLeastNorm(N,Ex,Ey,v_star.values, driver = 'gelsy')"
   ]
  },
  {
   "cell_type": "raw",
   "metadata": {
    "ExecuteTime": {
     "end_time": "2021-03-11T00:39:50.497583Z",
     "start_time": "2021-03-11T00:39:49.907017Z"
    }
   },
   "source": [
    "from emll.util import initialize_elasticity\n",
    "\n",
    "with pm.Model() as pymc_model:\n",
    "    \n",
    "    #Elasticity Priors\n",
    "    Ex_t = pm.Deterministic('Ex', initialize_elasticity(\n",
    "        ll.N, b = 0.05, sd=1, alpha = None,\n",
    "        m_compartments=m_compartments,\n",
    "        r_compartments=r_compartments\n",
    "    ))\n",
    "    \n",
    "    Ey_t = theano.tensor.as_tensor_variable(Ey)\n",
    "    \n",
    "    #Protein Expression Priors\n",
    "    \n",
    "    e_measured = pm.Normal('log_e_measured', mu=np.log(en), sd=0.2,\n",
    "                          shape = (n_exp, len(e_inds)))\n",
    "    \n",
    "    e_unmeasured = pm.Laplace('log_e_unmeasured', mu=0, b=0.1,\n",
    "                             shape = (n_exp, len(e_laplace_inds)))\n",
    "    \n",
    "    log_en_t = theano.tensor.concatenate(\n",
    "        [e_measured, e_unmeasured,\n",
    "        theano.tensor.zeros((n_exp, len(e_zero_inds)))], axis=1)[:, e_indexer]\n",
    "    \n",
    "    pm.Deterministic('log_en_t', log_en_t)\n",
    "    \n",
    "    #External Metabolite Priors\n",
    "    \n",
    "    yn_t = pm.Normal('yn_t', mu=0, sd=10, shape=(n_exp, ll.ny),\n",
    "                    testval=0.1 * np.random.randn(n_exp, ll.ny))\n",
    "    \n",
    "    #Internal Metabolite Steady State priors\n",
    "    \n",
    "    chi_ss, vn_ss = ll.steady_state_theano(Ex_t, Ey_t, theano.tensor.exp(log_en_t), yn_t)\n",
    "    pm.Deterministic('chi_ss', chi_ss)\n",
    "    \n",
    "    chi_clip = theano.tensor.clip(chi_ss[:, x_inds], -1.5, 1.5)\n",
    "    \n",
    "    chi_obs = pm.Normal('chi_obs', mu=chi_clip, sd=0.01,\n",
    "                       observed = xn.clip(lower= -1.5, upper= 1.5))"
   ]
  },
  {
   "cell_type": "code",
   "execution_count": 21,
   "metadata": {
    "ExecuteTime": {
     "end_time": "2021-03-11T01:17:01.129247Z",
     "start_time": "2021-03-11T01:16:49.415953Z"
    }
   },
   "outputs": [],
   "source": [
    "from emll.util import initialize_elasticity\n",
    "\n",
    "with pm.Model() as pymc_model:\n",
    "    \n",
    "    #Elasticity Priors\n",
    "    Ex_t = pm.Deterministic('Ex', initialize_elasticity(\n",
    "        ll.N, b = 0.05, sd=1, alpha = None,\n",
    "        m_compartments=m_compartments,\n",
    "        r_compartments=r_compartments\n",
    "    ))\n",
    "    \n",
    "    Ey_t = theano.tensor.as_tensor_variable(Ey)\n",
    "    \n",
    "    #Protein Expression Priors\n",
    "    \n",
    "    e_measured = pm.Normal('log_e_measured', mu=np.log(en), sd=0.1,\n",
    "                          shape = (n_exp, len(e_inds)))\n",
    "    \n",
    "    e_unmeasured = pm.Laplace('log_e_unmeasured', mu=0, b=0.1,\n",
    "                             shape = (n_exp, len(e_laplace_inds)))\n",
    "    \n",
    "    log_en_t = theano.tensor.concatenate(\n",
    "        [e_measured, e_unmeasured,\n",
    "        theano.tensor.zeros((n_exp, len(e_zero_inds)))], axis=1)[:, e_indexer]\n",
    "    \n",
    "    pm.Deterministic('log_en_t', log_en_t)\n",
    "    \n",
    "    #External Metabolite Priors\n",
    "    \n",
    "    yn_t = pm.Normal('yn_t', mu=0, sd=10, shape=(n_exp, ll.ny),\n",
    "                    testval=0.1 * np.random.randn(n_exp, ll.ny))\n",
    "    \n",
    "    #Internal Metabolite Steady State priors\n",
    "    \n",
    "    chi_ss, vn_ss = ll.steady_state_theano(Ex_t, Ey_t, theano.tensor.exp(log_en_t), yn_t)\n",
    "    pm.Deterministic('chi_ss', chi_ss)\n",
    "    \n",
    "    chi_clip = theano.tensor.clip(chi_ss[:, x_inds], -1.5, 1.5)\n",
    "    \n",
    "    chi_obs = pm.Normal('chi_obs', mu=chi_clip, sd=0.01,\n",
    "                       observed = xn.clip(lower= -1.5, upper= 1.5))"
   ]
  },
  {
   "cell_type": "code",
   "execution_count": 22,
   "metadata": {
    "ExecuteTime": {
     "end_time": "2021-03-11T01:17:09.624330Z",
     "start_time": "2021-03-11T01:17:04.193990Z"
    }
   },
   "outputs": [],
   "source": [
    "with pymc_model:\n",
    "    RANDOM_SEED = np.random.seed(123)\n",
    "    prior_checks = pm.sample_prior_predictive(samples=200, random_seed=RANDOM_SEED)\n"
   ]
  },
  {
   "cell_type": "code",
   "execution_count": 23,
   "metadata": {
    "ExecuteTime": {
     "end_time": "2021-03-11T01:21:39.311480Z",
     "start_time": "2021-03-11T01:17:09.626368Z"
    }
   },
   "outputs": [
    {
     "data": {
      "text/html": [
       "\n",
       "    <div>\n",
       "        <style>\n",
       "            /* Turns off some styling */\n",
       "            progress {\n",
       "                /* gets rid of default border in Firefox and Opera. */\n",
       "                border: none;\n",
       "                /* Needs to be in here for Safari polyfill so background images work as expected. */\n",
       "                background-size: auto;\n",
       "            }\n",
       "            .progress-bar-interrupted, .progress-bar-interrupted::-webkit-progress-bar {\n",
       "                background: #F44336;\n",
       "            }\n",
       "        </style>\n",
       "      <progress value='10000' class='' max='10000' style='width:300px; height:20px; vertical-align: middle;'></progress>\n",
       "      100.00% [10000/10000 04:18<00:00 Average Loss = 2.3677e+05]\n",
       "    </div>\n",
       "    "
      ],
      "text/plain": [
       "<IPython.core.display.HTML object>"
      ]
     },
     "metadata": {},
     "output_type": "display_data"
    },
    {
     "name": "stderr",
     "output_type": "stream",
     "text": [
      "Finished [100%]: Average Loss = 2.3655e+05\n"
     ]
    }
   ],
   "source": [
    "with pymc_model:\n",
    "    advi = pm.ADVI(random_seed = RANDOM_SEED)\n",
    "    tracker = pm.callbacks.Tracker(\n",
    "    mean = advi.approx.mean.eval,\n",
    "    std = advi.approx.std.eval\n",
    "    )\n",
    "    approx = advi.fit(\n",
    "        n=10000,\n",
    "        callbacks = [tracker],\n",
    "        obj_optimizer=pm.adagrad_window(learning_rate=1E-1),\n",
    "        total_grad_norm_constraint=100\n",
    "        )"
   ]
  },
  {
   "cell_type": "code",
   "execution_count": 24,
   "metadata": {
    "ExecuteTime": {
     "end_time": "2021-03-11T01:21:39.654753Z",
     "start_time": "2021-03-11T01:21:39.314398Z"
    }
   },
   "outputs": [],
   "source": [
    "import arviz as az\n",
    "import seaborn as sns"
   ]
  },
  {
   "cell_type": "code",
   "execution_count": 25,
   "metadata": {
    "ExecuteTime": {
     "end_time": "2021-03-11T01:21:41.289913Z",
     "start_time": "2021-03-11T01:21:40.693079Z"
    }
   },
   "outputs": [
    {
     "data": {
      "image/png": "[encoded data removed]",
      "text/plain": [
       "<Figure size 360x288 with 1 Axes>"
      ]
     },
     "metadata": {
      "needs_background": "light"
     },
     "output_type": "display_data"
    }
   ],
   "source": [
    "\n",
    "fig = plt.figure(figsize=(5,4))\n",
    "plt.plot(approx.hist, '.',ms=1, rasterized=True)\n",
    "sns.despine(offset=10)\n",
    "plt.yscale('log')\n",
    "plt.ylabel('-ELBO')\n",
    "plt.xlabel('Iteration')\n",
    "plt.tight_layout()"
   ]
  },
  {
   "cell_type": "code",
   "execution_count": 26,
   "metadata": {
    "ExecuteTime": {
     "end_time": "2021-03-11T01:22:00.586372Z",
     "start_time": "2021-03-11T01:21:41.987718Z"
    }
   },
   "outputs": [
    {
     "data": {
      "text/html": [
       "\n",
       "    <div>\n",
       "        <style>\n",
       "            /* Turns off some styling */\n",
       "            progress {\n",
       "                /* gets rid of default border in Firefox and Opera. */\n",
       "                border: none;\n",
       "                /* Needs to be in here for Safari polyfill so background images work as expected. */\n",
       "                background-size: auto;\n",
       "            }\n",
       "            .progress-bar-interrupted, .progress-bar-interrupted::-webkit-progress-bar {\n",
       "                background: #F44336;\n",
       "            }\n",
       "        </style>\n",
       "      <progress value='1000' class='' max='1000' style='width:300px; height:20px; vertical-align: middle;'></progress>\n",
       "      100.00% [1000/1000 00:10<00:00]\n",
       "    </div>\n",
       "    "
      ],
      "text/plain": [
       "<IPython.core.display.HTML object>"
      ]
     },
     "metadata": {},
     "output_type": "display_data"
    },
    {
     "data": {
      "image/png": "[encoded data removed]",
      "text/plain": [
       "<Figure size 432x288 with 1 Axes>"
      ]
     },
     "metadata": {
      "needs_background": "light"
     },
     "output_type": "display_data"
    }
   ],
   "source": [
    "with pymc_model:\n",
    "    plt.figure()\n",
    "    trace = approx.sample(1000)\n",
    "    ax = az.plot_kde(trace['chi_ss'][:,0],trace['chi_ss'][:,1])\n",
    "    ax.set_xlim(-1,1)\n",
    "    ax.set_ylim(-1,1)\n",
    "    ax.set_xlabel('Number')\n",
    "    ppc = pm.sample_posterior_predictive(trace)"
   ]
  },
  {
   "cell_type": "code",
   "execution_count": 27,
   "metadata": {
    "ExecuteTime": {
     "end_time": "2021-03-11T01:22:05.383680Z",
     "start_time": "2021-03-11T01:22:02.137804Z"
    }
   },
   "outputs": [
    {
     "data": {
      "text/plain": [
       "array([<matplotlib.axes._subplots.AxesSubplot object at 0x7ff0391b2ed0>],\n",
       "      dtype=object)"
      ]
     },
     "execution_count": 27,
     "metadata": {},
     "output_type": "execute_result"
    },
    {
     "name": "stderr",
     "output_type": "stream",
     "text": [
      "/usr/local/anaconda3/lib/python3.7/site-packages/IPython/core/pylabtools.py:132 \u001b[1;31mUserWarning\u001b[0m: Creating legend with loc=\"best\" can be slow with large amounts of data.\n"
     ]
    },
    {
     "data": {
      "image/png": "[encoded data removed]",
      "text/plain": [
       "<Figure size 432x288 with 1 Axes>"
      ]
     },
     "metadata": {
      "needs_background": "light"
     },
     "output_type": "display_data"
    }
   ],
   "source": [
    "az.plot_ppc(az.from_pymc3(posterior_predictive=ppc, model=pymc_model))"
   ]
  },
  {
   "cell_type": "code",
   "execution_count": 28,
   "metadata": {
    "ExecuteTime": {
     "end_time": "2021-03-11T01:22:05.389641Z",
     "start_time": "2021-03-11T01:22:05.385391Z"
    }
   },
   "outputs": [],
   "source": [
    "def plot_hpd(ax, real, ppc, error=True, ms=3, alpha=0.5, color='b'):\n",
    "    if error:\n",
    "        ax.plot(np.vstack([real.values.flatten(), real.values.flatten()]),\n",
    "                pm.hpd(ppc).reshape(-1, 2).T, color=color, lw=1, alpha=0.05, zorder=0)\n",
    "    ax.plot(real, np.median(ppc, 0), '.', ms=ms, color=color, alpha=alpha, zorder=0)"
   ]
  },
  {
   "cell_type": "code",
   "execution_count": 29,
   "metadata": {
    "ExecuteTime": {
     "end_time": "2021-03-11T01:22:28.880811Z",
     "start_time": "2021-03-11T01:22:27.536586Z"
    }
   },
   "outputs": [
    {
     "name": "stderr",
     "output_type": "stream",
     "text": [
      "/usr/local/anaconda3/lib/python3.7/site-packages/arviz/stats/stats.py:338 \u001b[1;31mUserWarning\u001b[0m: hpd will be deprecated Please replace hdi\n",
      "/usr/local/anaconda3/lib/python3.7/site-packages/arviz/data/base.py:146 \u001b[1;31mUserWarning\u001b[0m: More chains (1000) than draws (23). Passed array should have shape (chains, draws, *shape)\n",
      "/usr/local/anaconda3/lib/python3.7/site-packages/ipykernel_launcher.py:4 \u001b[1;31mMatplotlibDeprecationWarning\u001b[0m: cycling among columns of inputs with non-matching shapes is deprecated.\n",
      "/usr/local/anaconda3/lib/python3.7/site-packages/arviz/stats/stats.py:338 \u001b[1;31mUserWarning\u001b[0m: hpd will be deprecated Please replace hdi\n",
      "/usr/local/anaconda3/lib/python3.7/site-packages/arviz/data/base.py:146 \u001b[1;31mUserWarning\u001b[0m: More chains (1000) than draws (23). Passed array should have shape (chains, draws, *shape)\n",
      "/usr/local/anaconda3/lib/python3.7/site-packages/ipykernel_launcher.py:4 \u001b[1;31mMatplotlibDeprecationWarning\u001b[0m: cycling among columns of inputs with non-matching shapes is deprecated.\n"
     ]
    },
    {
     "data": {
      "text/plain": [
       "Text(0, 0.5, 'Frequency')"
      ]
     },
     "execution_count": 29,
     "metadata": {},
     "output_type": "execute_result"
    },
    {
     "data": {
      "image/png": "[encoded data removed]",
      "text/plain": [
       "<Figure size 468x360 with 4 Axes>"
      ]
     },
     "metadata": {
      "needs_background": "light"
     },
     "output_type": "display_data"
    }
   ],
   "source": [
    "plt.rcParams[\"axes.axisbelow\"] = False\n",
    "\n",
    "fig, ax_matrix = plt.subplots(ncols=2, nrows=2, figsize=(6.5, 5),\n",
    "                              sharex='row', sharey='row')\n",
    "\n",
    "for ax in ax_matrix[1,:].flatten():\n",
    "    ax.set_aspect('equal')\n",
    "\n",
    "_ = ax_matrix[0,0].hist(xn.values.flatten(), bins=15, lw=1,\n",
    "                        edgecolor='w', density=True, facecolor='.4')\n",
    "#_ = ax_matrix[0,1].hist(np.log(np.clip(vn.values.flatten(), 1E-8, 1E8)), bins=15, lw=1,\n",
    "#                        edgecolor='w', density=True, facecolor='.4')\n",
    "_ = ax_matrix[0,1].hist(np.log(en.values.flatten()), bins=15, lw=1, edgecolor='w',\n",
    "                        density=True, facecolor='.4')\n",
    "\n",
    "plot_hpd(ax_matrix[1,0], xn,\n",
    "         trace['chi_ss'][:, :, x_inds])\n",
    "#plot_hpd(ax_matrix[1,1], np.log(vn),\n",
    "#         np.log(np.clip(trace['vn_ss'][:, :, v_inds], 1E-8, 1E8)))\n",
    "plot_hpd(ax_matrix[1,1], np.log(en),\n",
    "         trace['log_en_t'][:, :, e_inds])\n",
    "\n",
    "for ax in ax_matrix[1,:]:\n",
    "    ax.set_rasterization_zorder(1)\n",
    "\n",
    "ax_matrix[1,0].set_xlim([-4, 4])\n",
    "#ax_matrix[1,1].set_xlim([-4, 4])\n",
    "ax_matrix[1,1].set_xlim([-4, 4])\n",
    "ax_matrix[1,0].set_ylim([-4, 4])\n",
    "#ax_matrix[1,1].set_ylim([-4, 4])\n",
    "ax_matrix[1,1].set_ylim([-4, 4])\n",
    "\n",
    "for ax in ax_matrix[0,:]:\n",
    "    ax.set_xlim([-4, 4])\n",
    "    ax.set_xticks([-4, -2, 0, 2, 4])\n",
    "\n",
    "for ax in ax_matrix[1,:]:\n",
    "    ax.plot([-4, 4], [-4, 4], '--', color='.3', zorder=4, lw=1.5)\n",
    "    ax.set_xlim([-4, 4])\n",
    "    ax.set_ylim([-4, 4])\n",
    "\n",
    "    ax.set_xticks([-4, -2, 0, 2, 4])\n",
    "    ax.set_yticks([-4, -2, 0, 2, 4])\n",
    "    \n",
    "    \n",
    "ax_matrix[1,0].fill_between([-1.5, 1.5], [1.5, 1.5], [-1.5, -1.5],\n",
    "                            zorder=4, color='k', alpha=.1)\n",
    "#ax_matrix[1,1].fill_between([-1.5, 1.5], [1.5, 1.5], [-1.5, -1.5],\n",
    "#                            zorder=4, color='k', alpha=.1)\n",
    "\n",
    "ax_matrix[0, 0].set_ylim([0, 1.])\n",
    "\n",
    "ax_matrix[0,0].set_title('Metabolomics', fontsize=13)\n",
    "#ax_matrix[0,1].set_title('Fluxomics', fontsize=13)\n",
    "ax_matrix[0,1].set_title('Proteomics', fontsize=13)\n",
    "\n",
    "\n",
    "ax_matrix[0,0].text(0.5, 1., '$\\chi$, n={}'.format(xn.shape[0] * xn.shape[1]),\n",
    "                    ha='center', va='top', transform=ax_matrix[0,0].transAxes)\n",
    "#ax_matrix[0,1].text(0.5, 1., '$\\log\\; \\hat{v}$, n='+ str(vn.shape[0] * vn.shape[1]),\n",
    "#                    ha='center', va='top', transform=ax_matrix[0,1].transAxes)\n",
    "ax_matrix[0,1].text(0.5, 1., '$\\log\\; \\hat{e}$, n=' + str(en.shape[0] * en.shape[1]),\n",
    "                    ha='center', va='top', transform=ax_matrix[0,1].transAxes)\n",
    "\n",
    "ax_matrix[0,1].set_xlabel('Measured')\n",
    "ax_matrix[-1,1].set_xlabel('Measured')\n",
    "ax_matrix[1,0].set_ylabel('Predicted')\n",
    "ax_matrix[0,0].set_ylabel('Frequency')\n",
    "\n",
    "#sns.despine(offset=2.5, trim=True)\n",
    "# plt.tight_layout()\n",
    "\n",
    "# plt.savefig('hackett_posterior_and_dists.svg', dpi=300)"
   ]
  },
  {
   "cell_type": "code",
   "execution_count": 30,
   "metadata": {
    "ExecuteTime": {
     "end_time": "2021-03-11T01:22:38.097759Z",
     "start_time": "2021-03-11T01:22:36.075432Z"
    }
   },
   "outputs": [
    {
     "name": "stderr",
     "output_type": "stream",
     "text": [
      "100%|██████████| 1000/1000 [00:01<00:00, 841.45it/s]\n",
      "100%|██████████| 1000/1000 [00:00<00:00, 1385.83it/s]\n"
     ]
    }
   ],
   "source": [
    "# Calc Fccs with two methods\n",
    "from tqdm import tqdm\n",
    "ll_link = emll.LinLogLinkMatrix(ll.N, ll.Ex, ll.Ey, ll.v_star)\n",
    "fccs = np.array([ll.flux_control_coefficient(Ex=ex) for ex in tqdm(trace['Ex'])])\n",
    "fccs_link = np.array([ll_link.flux_control_coefficient(Ex=ex) for ex in tqdm(trace['Ex'])])"
   ]
  },
  {
   "cell_type": "code",
   "execution_count": 31,
   "metadata": {
    "ExecuteTime": {
     "end_time": "2021-03-11T01:22:38.609491Z",
     "start_time": "2021-03-11T01:22:38.605702Z"
    }
   },
   "outputs": [
    {
     "data": {
      "text/plain": [
       "(1000, 67, 67)"
      ]
     },
     "execution_count": 31,
     "metadata": {},
     "output_type": "execute_result"
    }
   ],
   "source": [
    "fccs.shape"
   ]
  },
  {
   "cell_type": "code",
   "execution_count": 32,
   "metadata": {
    "ExecuteTime": {
     "end_time": "2021-03-11T01:22:39.668210Z",
     "start_time": "2021-03-11T01:22:39.265480Z"
    }
   },
   "outputs": [],
   "source": [
    "r_med = np.median(fccs, 0).flatten()\n",
    "l_med = np.median(fccs_link, 0).flatten()\n",
    "r_err = [r_med - np.percentile(fccs, 25, axis=0).flatten(),\n",
    "         np.percentile(fccs, 75, axis=0).flatten() - r_med]\n",
    "l_err = [l_med - np.percentile(fccs_link, 25, axis=0).flatten(),\n",
    "         np.percentile(fccs_link, 75, axis=0).flatten() - l_med]"
   ]
  },
  {
   "cell_type": "code",
   "execution_count": 33,
   "metadata": {
    "ExecuteTime": {
     "end_time": "2021-03-11T01:22:40.689094Z",
     "start_time": "2021-03-11T01:22:40.358346Z"
    }
   },
   "outputs": [
    {
     "data": {
      "text/plain": [
       "Text(1, -1, '$\\\\rho = 0.55$')"
      ]
     },
     "execution_count": 33,
     "metadata": {},
     "output_type": "execute_result"
    },
    {
     "data": {
      "image/png": "[encoded data removed]",
      "text/plain": [
       "<Figure size 360x288 with 1 Axes>"
      ]
     },
     "metadata": {
      "needs_background": "light"
     },
     "output_type": "display_data"
    }
   ],
   "source": [
    "fig = plt.figure(figsize=(5,4))\n",
    "ax = fig.add_subplot(111, aspect='equal', adjustable='box')\n",
    "\n",
    "ax.set_aspect('equal')\n",
    "ax.errorbar(r_med, l_med, ms=5, lw=0, xerr=r_err, yerr=l_err,\n",
    "            marker='.', color='.4', zorder=3, alpha=0.5)\n",
    "ax.errorbar(r_med, l_med, ms=5, lw=0, xerr=r_err, yerr=l_err,\n",
    "            elinewidth=.5, color='.8', alpha=0.5, zorder=2)\n",
    "\n",
    "ax.plot([-5, 5], [-5, 5], '--', color='.8', zorder=0)\n",
    "\n",
    "ax.set_xlabel('FCC (Pseudoinverse)')\n",
    "ax.set_ylabel('FCC (Link Matrix)')\n",
    "\n",
    "ax.set_rasterization_zorder(4)\n",
    "\n",
    "ax.set_xlim([-1, 1])\n",
    "ax.set_ylim([-1, 1])\n",
    "\n",
    "\n",
    "plt.tight_layout()\n",
    "sns.despine(trim=True, offset=10)\n",
    "ax.text(1, -1, '$\\\\rho = {:.2f}$'.format(\n",
    "    pd.Series(r_med).corr(pd.Series(l_med))), ha='right', va='bottom', fontsize=12)\n",
    "\n",
    "# plt.savefig('fcc_comparison.svg', dpi=300)"
   ]
  },
  {
   "cell_type": "code",
   "execution_count": 34,
   "metadata": {
    "ExecuteTime": {
     "end_time": "2021-03-11T01:22:41.350535Z",
     "start_time": "2021-03-11T01:22:41.265561Z"
    }
   },
   "outputs": [],
   "source": [
    "fcc_med = np.median(fccs,0)\n",
    "r_labels = [r.id for r in model.reactions]\n",
    "fcc_med = pd.DataFrame(fcc_med, columns=r_labels, index=r_labels)"
   ]
  },
  {
   "cell_type": "code",
   "execution_count": 35,
   "metadata": {
    "ExecuteTime": {
     "end_time": "2021-03-11T01:22:44.840525Z",
     "start_time": "2021-03-11T01:22:44.832022Z"
    }
   },
   "outputs": [],
   "source": [
    "def corrwith(left, right, df=True):\n",
    "    # demeaned data\n",
    "    left_tiled = np.repeat(left.values[:, np.newaxis, :], right.shape[0], 1)\n",
    "    right_tiled = np.repeat(right.values[np.newaxis, :, :], left.shape[0], 0)\n",
    "\n",
    "    ldem = left_tiled - left_tiled.mean(-1)[:, :, np.newaxis]\n",
    "    rdem = right_tiled - right_tiled.mean(-1)[:, :, np.newaxis]\n",
    "\n",
    "    num = (ldem * rdem).sum(-1)\n",
    "\n",
    "    dom = (left.shape[1] - 1) * left_tiled.std(-1) * right_tiled.std(-1)\n",
    "    correl = num / dom\n",
    "    \n",
    "    if not df:\n",
    "        return correl\n",
    "    else: \n",
    "        return pd.DataFrame(correl, index=left.index, columns=right.index)\n",
    "\n",
    "corr_df = corrwith(e, v).T"
   ]
  },
  {
   "cell_type": "code",
   "execution_count": 36,
   "metadata": {
    "ExecuteTime": {
     "end_time": "2021-03-11T01:22:45.556954Z",
     "start_time": "2021-03-11T01:22:45.553472Z"
    }
   },
   "outputs": [],
   "source": [
    "def random_corr_iterator():\n",
    "    return corrwith(e.loc[:, np.random.permutation(e.columns)],\n",
    "                    v.loc[:, np.random.permutation(e.columns)], df=False)"
   ]
  },
  {
   "cell_type": "code",
   "execution_count": 37,
   "metadata": {
    "ExecuteTime": {
     "end_time": "2021-03-11T01:22:48.153812Z",
     "start_time": "2021-03-11T01:22:45.936832Z"
    }
   },
   "outputs": [
    {
     "name": "stderr",
     "output_type": "stream",
     "text": [
      "100%|██████████| 2000/2000 [00:02<00:00, 905.60it/s]\n"
     ]
    }
   ],
   "source": [
    "permutated_corr_mat = np.array([random_corr_iterator() for _ in tqdm(range(2000))])"
   ]
  },
  {
   "cell_type": "code",
   "execution_count": 38,
   "metadata": {
    "ExecuteTime": {
     "end_time": "2021-03-11T01:22:48.159948Z",
     "start_time": "2021-03-11T01:22:48.156917Z"
    }
   },
   "outputs": [],
   "source": [
    "import scipy\n",
    "from scipy import cluster"
   ]
  },
  {
   "cell_type": "code",
   "execution_count": 39,
   "metadata": {
    "ExecuteTime": {
     "end_time": "2021-03-11T01:22:48.179882Z",
     "start_time": "2021-03-11T01:22:48.163928Z"
    }
   },
   "outputs": [],
   "source": [
    "z_scores = (corr_df - permutated_corr_mat.mean(0).T) / permutated_corr_mat.std(0).T\n",
    "p_vals = 2 * z_scores.abs().apply(scipy.stats.norm.sf)"
   ]
  },
  {
   "cell_type": "code",
   "execution_count": 40,
   "metadata": {
    "ExecuteTime": {
     "end_time": "2021-03-11T01:22:48.647420Z",
     "start_time": "2021-03-11T01:22:48.643202Z"
    }
   },
   "outputs": [],
   "source": [
    "def sort_df(df):\n",
    "    sort_x = cluster.hierarchy.leaves_list(cluster.hierarchy.linkage(df, \"complete\"))\n",
    "    sort_y = cluster.hierarchy.leaves_list(cluster.hierarchy.linkage(df.T, \"complete\"))\n",
    "    \n",
    "    return df.iloc[sort_x, sort_t]"
   ]
  },
  {
   "cell_type": "code",
   "execution_count": 41,
   "metadata": {
    "ExecuteTime": {
     "end_time": "2021-03-11T01:22:49.292496Z",
     "start_time": "2021-03-11T01:22:49.042561Z"
    }
   },
   "outputs": [
    {
     "name": "stderr",
     "output_type": "stream",
     "text": [
      "/usr/local/anaconda3/lib/python3.7/site-packages/arviz/data/base.py:146 \u001b[1;31mUserWarning\u001b[0m: More chains (1000) than draws (67). Passed array should have shape (chains, draws, *shape)\n"
     ]
    }
   ],
   "source": [
    "fccs_hpd = az.hdi(fccs)\n",
    "fcc_consistent = np.sign(fccs_hpd[:,0]) == np.sign(fccs_hpd[:,1])\n",
    "fcc_consistent_df = pd.DataFrame(fcc_consistent, index=r_labels)"
   ]
  },
  {
   "cell_type": "code",
   "execution_count": 42,
   "metadata": {
    "ExecuteTime": {
     "end_time": "2021-03-11T01:22:49.751023Z",
     "start_time": "2021-03-11T01:22:49.675099Z"
    }
   },
   "outputs": [
    {
     "ename": "ValueError",
     "evalue": "The condensed distance matrix must contain only finite values.",
     "output_type": "error",
     "traceback": [
      "\u001b[0;31m---------------------------------------------------------------------------\u001b[0m",
      "\u001b[0;31mValueError\u001b[0m                                Traceback (most recent call last)",
      "\u001b[0;32m<ipython-input-42-cc8777f0adc3>\u001b[0m in \u001b[0;36m<module>\u001b[0;34m\u001b[0m\n\u001b[0;32m----> 1\u001b[0;31m \u001b[0msorted_corr_df\u001b[0m \u001b[0;34m=\u001b[0m \u001b[0msort_df\u001b[0m\u001b[0;34m(\u001b[0m\u001b[0mcorr_df\u001b[0m\u001b[0;34m)\u001b[0m\u001b[0;34m\u001b[0m\u001b[0;34m\u001b[0m\u001b[0m\n\u001b[0m",
      "\u001b[0;32m<ipython-input-40-544d500fbc02>\u001b[0m in \u001b[0;36msort_df\u001b[0;34m(df)\u001b[0m\n\u001b[1;32m      1\u001b[0m \u001b[0;32mdef\u001b[0m \u001b[0msort_df\u001b[0m\u001b[0;34m(\u001b[0m\u001b[0mdf\u001b[0m\u001b[0;34m)\u001b[0m\u001b[0;34m:\u001b[0m\u001b[0;34m\u001b[0m\u001b[0;34m\u001b[0m\u001b[0m\n\u001b[0;32m----> 2\u001b[0;31m     \u001b[0msort_x\u001b[0m \u001b[0;34m=\u001b[0m \u001b[0mcluster\u001b[0m\u001b[0;34m.\u001b[0m\u001b[0mhierarchy\u001b[0m\u001b[0;34m.\u001b[0m\u001b[0mleaves_list\u001b[0m\u001b[0;34m(\u001b[0m\u001b[0mcluster\u001b[0m\u001b[0;34m.\u001b[0m\u001b[0mhierarchy\u001b[0m\u001b[0;34m.\u001b[0m\u001b[0mlinkage\u001b[0m\u001b[0;34m(\u001b[0m\u001b[0mdf\u001b[0m\u001b[0;34m,\u001b[0m \u001b[0;34m\"complete\"\u001b[0m\u001b[0;34m)\u001b[0m\u001b[0;34m)\u001b[0m\u001b[0;34m\u001b[0m\u001b[0;34m\u001b[0m\u001b[0m\n\u001b[0m\u001b[1;32m      3\u001b[0m     \u001b[0msort_y\u001b[0m \u001b[0;34m=\u001b[0m \u001b[0mcluster\u001b[0m\u001b[0;34m.\u001b[0m\u001b[0mhierarchy\u001b[0m\u001b[0;34m.\u001b[0m\u001b[0mleaves_list\u001b[0m\u001b[0;34m(\u001b[0m\u001b[0mcluster\u001b[0m\u001b[0;34m.\u001b[0m\u001b[0mhierarchy\u001b[0m\u001b[0;34m.\u001b[0m\u001b[0mlinkage\u001b[0m\u001b[0;34m(\u001b[0m\u001b[0mdf\u001b[0m\u001b[0;34m.\u001b[0m\u001b[0mT\u001b[0m\u001b[0;34m,\u001b[0m \u001b[0;34m\"complete\"\u001b[0m\u001b[0;34m)\u001b[0m\u001b[0;34m)\u001b[0m\u001b[0;34m\u001b[0m\u001b[0;34m\u001b[0m\u001b[0m\n\u001b[1;32m      4\u001b[0m \u001b[0;34m\u001b[0m\u001b[0m\n\u001b[1;32m      5\u001b[0m     \u001b[0;32mreturn\u001b[0m \u001b[0mdf\u001b[0m\u001b[0;34m.\u001b[0m\u001b[0miloc\u001b[0m\u001b[0;34m[\u001b[0m\u001b[0msort_x\u001b[0m\u001b[0;34m,\u001b[0m \u001b[0msort_t\u001b[0m\u001b[0;34m]\u001b[0m\u001b[0;34m\u001b[0m\u001b[0;34m\u001b[0m\u001b[0m\n",
      "\u001b[0;32m/usr/local/anaconda3/lib/python3.7/site-packages/scipy/cluster/hierarchy.py\u001b[0m in \u001b[0;36mlinkage\u001b[0;34m(y, method, metric, optimal_ordering)\u001b[0m\n\u001b[1;32m   1059\u001b[0m \u001b[0;34m\u001b[0m\u001b[0m\n\u001b[1;32m   1060\u001b[0m     \u001b[0;32mif\u001b[0m \u001b[0;32mnot\u001b[0m \u001b[0mnp\u001b[0m\u001b[0;34m.\u001b[0m\u001b[0mall\u001b[0m\u001b[0;34m(\u001b[0m\u001b[0mnp\u001b[0m\u001b[0;34m.\u001b[0m\u001b[0misfinite\u001b[0m\u001b[0;34m(\u001b[0m\u001b[0my\u001b[0m\u001b[0;34m)\u001b[0m\u001b[0;34m)\u001b[0m\u001b[0;34m:\u001b[0m\u001b[0;34m\u001b[0m\u001b[0;34m\u001b[0m\u001b[0m\n\u001b[0;32m-> 1061\u001b[0;31m         raise ValueError(\"The condensed distance matrix must contain only \"\n\u001b[0m\u001b[1;32m   1062\u001b[0m                          \"finite values.\")\n\u001b[1;32m   1063\u001b[0m \u001b[0;34m\u001b[0m\u001b[0m\n",
      "\u001b[0;31mValueError\u001b[0m: The condensed distance matrix must contain only finite values."
     ]
    }
   ],
   "source": [
    "sorted_corr_df = sort_df(corr_df)"
   ]
  },
  {
   "cell_type": "code",
   "execution_count": 53,
   "metadata": {
    "ExecuteTime": {
     "end_time": "2021-03-11T01:26:37.786844Z",
     "start_time": "2021-03-11T01:26:37.783793Z"
    }
   },
   "outputs": [],
   "source": [
    "pd.set_option('display.max_rows', None)\n",
    "pd.set_option('display.max_columns', None)\n",
    "pd.set_option('display.width', None)\n",
    "pd.set_option('display.max_colwidth', None)"
   ]
  },
  {
   "cell_type": "code",
   "execution_count": 56,
   "metadata": {
    "ExecuteTime": {
     "end_time": "2021-03-11T01:32:34.512764Z",
     "start_time": "2021-03-11T01:32:34.498515Z"
    }
   },
   "outputs": [],
   "source": [
    "df1 = pd.DataFrame(fccs[:, 0], columns=[r.id for r in model.reactions]\n",
    "                  ).stack().reset_index(level=1)\n",
    "#df2 = pd.DataFrame(fcc_mb[:, 0], columns=[r.id for r in model.reactions]\n",
    "#                  ).stack().reset_index(level=1)\n",
    "#df3 = pd.DataFrame(fcc_prior[:, 0], columns=[r.id for r in model.reactions]\n",
    "#                  ).stack().reset_index(level=1)\n",
    "\n",
    "df1['type'] = 'NUTS'\n",
    "#df2['type'] = 'ADVI'\n",
    "#df3['type'] = 'Prior'\n",
    "\n",
    "\n",
    "#fcc_df = pd.concat([df1, df2, df3])\n",
    "fcc_df = df1\n",
    "fcc_df.columns = ['Reaction', 'FCC', 'Type']\n",
    "\n",
    "fcc_df.loc[fcc_df.FCC < -.5, 'FCC'] = np.nan\n",
    "fcc_df.loc[fcc_df.FCC > 1.5, 'FCC'] = np.nan"
   ]
  },
  {
   "cell_type": "code",
   "execution_count": 68,
   "metadata": {
    "ExecuteTime": {
     "end_time": "2021-03-11T01:37:26.049003Z",
     "start_time": "2021-03-11T01:37:21.617033Z"
    }
   },
   "outputs": [
    {
     "data": {
      "image/png": "[encoded data removed]",
      "text/plain": [
       "<Figure size 576x288 with 2 Axes>"
      ]
     },
     "metadata": {
      "needs_background": "light"
     },
     "output_type": "display_data"
    }
   ],
   "source": [
    "fig = plt.figure(figsize=(8, 4))\n",
    "\n",
    "my_pal = {\"NUTS\": \"g\"}\n",
    "\n",
    "ax = fig.add_subplot(111)\n",
    "ax2 = fig.add_subplot(111, frameon=False, sharex=ax, sharey=ax)\n",
    "\n",
    "sns.violinplot(\n",
    "    x='Reaction', y='FCC', hue='Type', data=fcc_df[fcc_df.Type == 'NUTS'],\n",
    "    scale='width', width=0.5, legend=False, zorder=0,\n",
    "    color='1.', ax=ax, saturation=1., alpha=0.01)\n",
    "\n",
    "plt.setp(ax.lines, color='.8')\n",
    "plt.setp(ax.collections, alpha=.5, label=\"\")\n",
    "\n",
    "\n",
    "sns.violinplot(\n",
    "    x='Reaction', y='FCC', hue='Type', data=fcc_df,\n",
    "    scale='width', width=0.8, hue_order=['NUTS'],\n",
    "    legend=False, palette=my_pal, zorder=3, ax=ax2)\n",
    "\n",
    "#for i, cc in enumerate(wu_ccs):\n",
    "#    l = plt.plot([i - .4, i + .4], [cc, cc], '-', color=sns.color_palette('muted')[3])\n",
    "\n",
    "phandles, plabels = ax.get_legend_handles_labels()\n",
    "handles, labels = ax2.get_legend_handles_labels()\n",
    "ax.legend().remove()\n",
    "ax2.legend().remove()\n",
    "\n",
    "#ax2.legend(phandles + handles + l, plabels + labels + ['Wu 2004'], loc='upper center', ncol=4, fontsize=13)\n",
    "ax.set_ylim([-1, 2])\n",
    "\n",
    "ax.axhline(0, ls='--', color='.7', zorder=0)\n",
    "sns.despine(trim=True)\n",
    "\n",
    "#fig.savefig('wu_fccs.svg', transparent=True)"
   ]
  },
  {
   "cell_type": "code",
   "execution_count": null,
   "metadata": {},
   "outputs": [],
   "source": []
  }
 ],
 "metadata": {
  "kernelspec": {
   "display_name": "Python 3",
   "language": "python",
   "name": "python3"
  },
  "language_info": {
   "codemirror_mode": {
    "name": "ipython",
    "version": 3
   },
   "file_extension": ".py",
   "mimetype": "text/x-python",
   "name": "python",
   "nbconvert_exporter": "python",
   "pygments_lexer": "ipython3",
   "version": "3.7.6"
  },
  "toc": {
   "base_numbering": 1,
   "nav_menu": {},
   "number_sections": true,
   "sideBar": true,
   "skip_h1_title": false,
   "title_cell": "Table of Contents",
   "title_sidebar": "Contents",
   "toc_cell": false,
   "toc_position": {},
   "toc_section_display": true,
   "toc_window_display": false
  }
 },
 "nbformat": 4,
 "nbformat_minor": 4
}
